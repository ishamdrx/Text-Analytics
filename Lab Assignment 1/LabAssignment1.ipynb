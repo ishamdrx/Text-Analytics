{
 "cells": [
  {
   "cell_type": "code",
   "execution_count": 1,
   "id": "4ed58246-8559-4b0c-bf32-1d6f82497928",
   "metadata": {},
   "outputs": [
    {
     "name": "stdout",
     "output_type": "stream",
     "text": [
      "Requirement already satisfied: selenium in c:\\users\\isham\\anaconda3\\lib\\site-packages (4.29.0)\n",
      "Requirement already satisfied: webdriver-manager in c:\\users\\isham\\anaconda3\\lib\\site-packages (4.0.2)\n",
      "Requirement already satisfied: pandas in c:\\users\\isham\\anaconda3\\lib\\site-packages (2.2.2)\n",
      "Requirement already satisfied: urllib3<3,>=1.26 in c:\\users\\isham\\anaconda3\\lib\\site-packages (from urllib3[socks]<3,>=1.26->selenium) (2.2.3)\n",
      "Requirement already satisfied: trio~=0.17 in c:\\users\\isham\\anaconda3\\lib\\site-packages (from selenium) (0.29.0)\n",
      "Requirement already satisfied: trio-websocket~=0.9 in c:\\users\\isham\\anaconda3\\lib\\site-packages (from selenium) (0.12.2)\n",
      "Requirement already satisfied: certifi>=2021.10.8 in c:\\users\\isham\\anaconda3\\lib\\site-packages (from selenium) (2025.1.31)\n",
      "Requirement already satisfied: typing_extensions~=4.9 in c:\\users\\isham\\anaconda3\\lib\\site-packages (from selenium) (4.11.0)\n",
      "Requirement already satisfied: websocket-client~=1.8 in c:\\users\\isham\\anaconda3\\lib\\site-packages (from selenium) (1.8.0)\n",
      "Requirement already satisfied: requests in c:\\users\\isham\\anaconda3\\lib\\site-packages (from webdriver-manager) (2.32.3)\n",
      "Requirement already satisfied: python-dotenv in c:\\users\\isham\\anaconda3\\lib\\site-packages (from webdriver-manager) (0.21.0)\n",
      "Requirement already satisfied: packaging in c:\\users\\isham\\anaconda3\\lib\\site-packages (from webdriver-manager) (24.1)\n",
      "Requirement already satisfied: numpy>=1.26.0 in c:\\users\\isham\\anaconda3\\lib\\site-packages (from pandas) (1.26.4)\n",
      "Requirement already satisfied: python-dateutil>=2.8.2 in c:\\users\\isham\\anaconda3\\lib\\site-packages (from pandas) (2.9.0.post0)\n",
      "Requirement already satisfied: pytz>=2020.1 in c:\\users\\isham\\anaconda3\\lib\\site-packages (from pandas) (2024.1)\n",
      "Requirement already satisfied: tzdata>=2022.7 in c:\\users\\isham\\anaconda3\\lib\\site-packages (from pandas) (2023.3)\n",
      "Requirement already satisfied: six>=1.5 in c:\\users\\isham\\anaconda3\\lib\\site-packages (from python-dateutil>=2.8.2->pandas) (1.16.0)\n",
      "Requirement already satisfied: attrs>=23.2.0 in c:\\users\\isham\\anaconda3\\lib\\site-packages (from trio~=0.17->selenium) (25.1.0)\n",
      "Requirement already satisfied: sortedcontainers in c:\\users\\isham\\anaconda3\\lib\\site-packages (from trio~=0.17->selenium) (2.4.0)\n",
      "Requirement already satisfied: idna in c:\\users\\isham\\anaconda3\\lib\\site-packages (from trio~=0.17->selenium) (3.7)\n",
      "Requirement already satisfied: outcome in c:\\users\\isham\\anaconda3\\lib\\site-packages (from trio~=0.17->selenium) (1.3.0.post0)\n",
      "Requirement already satisfied: sniffio>=1.3.0 in c:\\users\\isham\\anaconda3\\lib\\site-packages (from trio~=0.17->selenium) (1.3.0)\n",
      "Requirement already satisfied: cffi>=1.14 in c:\\users\\isham\\anaconda3\\lib\\site-packages (from trio~=0.17->selenium) (1.17.1)\n",
      "Requirement already satisfied: wsproto>=0.14 in c:\\users\\isham\\anaconda3\\lib\\site-packages (from trio-websocket~=0.9->selenium) (1.2.0)\n",
      "Requirement already satisfied: pysocks!=1.5.7,<2.0,>=1.5.6 in c:\\users\\isham\\anaconda3\\lib\\site-packages (from urllib3[socks]<3,>=1.26->selenium) (1.7.1)\n",
      "Requirement already satisfied: charset-normalizer<4,>=2 in c:\\users\\isham\\anaconda3\\lib\\site-packages (from requests->webdriver-manager) (3.3.2)\n",
      "Requirement already satisfied: pycparser in c:\\users\\isham\\anaconda3\\lib\\site-packages (from cffi>=1.14->trio~=0.17->selenium) (2.21)\n",
      "Requirement already satisfied: h11<1,>=0.9.0 in c:\\users\\isham\\anaconda3\\lib\\site-packages (from wsproto>=0.14->trio-websocket~=0.9->selenium) (0.14.0)\n"
     ]
    }
   ],
   "source": [
    "!pip install selenium webdriver-manager pandas\n"
   ]
  },
  {
   "cell_type": "code",
   "execution_count": 9,
   "id": "6ae2ffe3-9321-4928-af0f-e04a0eed33a0",
   "metadata": {},
   "outputs": [
    {
     "name": "stdout",
     "output_type": "stream",
     "text": [
      "Collecting capsolver\n",
      "  Downloading capsolver-1.0.7-py3-none-any.whl.metadata (1.9 kB)\n",
      "Requirement already satisfied: requests>=2.26.0 in c:\\users\\isham\\anaconda3\\lib\\site-packages (from capsolver) (2.32.3)\n",
      "Requirement already satisfied: charset-normalizer<4,>=2 in c:\\users\\isham\\anaconda3\\lib\\site-packages (from requests>=2.26.0->capsolver) (3.3.2)\n",
      "Requirement already satisfied: idna<4,>=2.5 in c:\\users\\isham\\anaconda3\\lib\\site-packages (from requests>=2.26.0->capsolver) (3.7)\n",
      "Requirement already satisfied: urllib3<3,>=1.21.1 in c:\\users\\isham\\anaconda3\\lib\\site-packages (from requests>=2.26.0->capsolver) (2.2.3)\n",
      "Requirement already satisfied: certifi>=2017.4.17 in c:\\users\\isham\\anaconda3\\lib\\site-packages (from requests>=2.26.0->capsolver) (2025.1.31)\n",
      "Downloading capsolver-1.0.7-py3-none-any.whl (9.4 kB)\n",
      "Installing collected packages: capsolver\n",
      "Successfully installed capsolver-1.0.7\n",
      "Note: you may need to restart the kernel to use updated packages.\n"
     ]
    }
   ],
   "source": [
    "pip install capsolver\n"
   ]
  },
  {
   "cell_type": "code",
   "execution_count": 6,
   "id": "35c05e75-0ece-435a-8b26-2df0c18b9b48",
   "metadata": {},
   "outputs": [
    {
     "name": "stdout",
     "output_type": "stream",
     "text": [
      "Collecting fake-useragent\n",
      "  Downloading fake_useragent-2.1.0-py3-none-any.whl.metadata (17 kB)\n",
      "Downloading fake_useragent-2.1.0-py3-none-any.whl (125 kB)\n",
      "Installing collected packages: fake-useragent\n",
      "Successfully installed fake-useragent-2.1.0\n"
     ]
    }
   ],
   "source": [
    "!pip install fake-useragent\n"
   ]
  },
  {
   "cell_type": "code",
   "execution_count": 10,
   "id": "ea248413-001a-49d2-bda1-1c0b3ae1c84a",
   "metadata": {},
   "outputs": [
    {
     "name": "stdout",
     "output_type": "stream",
     "text": [
      "Requirement already satisfied: selenium in c:\\users\\isham\\anaconda3\\lib\\site-packages (4.29.0)\n",
      "Requirement already satisfied: webdriver-manager in c:\\users\\isham\\anaconda3\\lib\\site-packages (4.0.2)\n",
      "Requirement already satisfied: fake-useragent in c:\\users\\isham\\anaconda3\\lib\\site-packages (2.1.0)\n",
      "Requirement already satisfied: requests in c:\\users\\isham\\anaconda3\\lib\\site-packages (2.32.3)\n",
      "Requirement already satisfied: urllib3<3,>=1.26 in c:\\users\\isham\\anaconda3\\lib\\site-packages (from urllib3[socks]<3,>=1.26->selenium) (2.2.3)\n",
      "Requirement already satisfied: trio~=0.17 in c:\\users\\isham\\anaconda3\\lib\\site-packages (from selenium) (0.29.0)\n",
      "Requirement already satisfied: trio-websocket~=0.9 in c:\\users\\isham\\anaconda3\\lib\\site-packages (from selenium) (0.12.2)\n",
      "Requirement already satisfied: certifi>=2021.10.8 in c:\\users\\isham\\anaconda3\\lib\\site-packages (from selenium) (2025.1.31)\n",
      "Requirement already satisfied: typing_extensions~=4.9 in c:\\users\\isham\\anaconda3\\lib\\site-packages (from selenium) (4.11.0)\n",
      "Requirement already satisfied: websocket-client~=1.8 in c:\\users\\isham\\anaconda3\\lib\\site-packages (from selenium) (1.8.0)\n",
      "Requirement already satisfied: python-dotenv in c:\\users\\isham\\anaconda3\\lib\\site-packages (from webdriver-manager) (0.21.0)\n",
      "Requirement already satisfied: packaging in c:\\users\\isham\\anaconda3\\lib\\site-packages (from webdriver-manager) (24.1)\n",
      "Requirement already satisfied: charset-normalizer<4,>=2 in c:\\users\\isham\\anaconda3\\lib\\site-packages (from requests) (3.3.2)\n",
      "Requirement already satisfied: idna<4,>=2.5 in c:\\users\\isham\\anaconda3\\lib\\site-packages (from requests) (3.7)\n",
      "Requirement already satisfied: attrs>=23.2.0 in c:\\users\\isham\\anaconda3\\lib\\site-packages (from trio~=0.17->selenium) (25.1.0)\n",
      "Requirement already satisfied: sortedcontainers in c:\\users\\isham\\anaconda3\\lib\\site-packages (from trio~=0.17->selenium) (2.4.0)\n",
      "Requirement already satisfied: outcome in c:\\users\\isham\\anaconda3\\lib\\site-packages (from trio~=0.17->selenium) (1.3.0.post0)\n",
      "Requirement already satisfied: sniffio>=1.3.0 in c:\\users\\isham\\anaconda3\\lib\\site-packages (from trio~=0.17->selenium) (1.3.0)\n",
      "Requirement already satisfied: cffi>=1.14 in c:\\users\\isham\\anaconda3\\lib\\site-packages (from trio~=0.17->selenium) (1.17.1)\n",
      "Requirement already satisfied: wsproto>=0.14 in c:\\users\\isham\\anaconda3\\lib\\site-packages (from trio-websocket~=0.9->selenium) (1.2.0)\n",
      "Requirement already satisfied: pysocks!=1.5.7,<2.0,>=1.5.6 in c:\\users\\isham\\anaconda3\\lib\\site-packages (from urllib3[socks]<3,>=1.26->selenium) (1.7.1)\n",
      "Requirement already satisfied: pycparser in c:\\users\\isham\\anaconda3\\lib\\site-packages (from cffi>=1.14->trio~=0.17->selenium) (2.21)\n",
      "Requirement already satisfied: h11<1,>=0.9.0 in c:\\users\\isham\\anaconda3\\lib\\site-packages (from wsproto>=0.14->trio-websocket~=0.9->selenium) (0.14.0)\n",
      "Note: you may need to restart the kernel to use updated packages.\n"
     ]
    }
   ],
   "source": [
    "pip install selenium webdriver-manager fake-useragent requests\n"
   ]
  },
  {
   "cell_type": "code",
   "execution_count": 16,
   "id": "26a78b29-2e6c-4808-8053-05511ed4be2d",
   "metadata": {},
   "outputs": [
    {
     "name": "stderr",
     "output_type": "stream",
     "text": [
      "2025-03-13 15:58:46,244 - INFO - ====== WebDriver manager ======\n",
      "2025-03-13 15:58:47,950 - INFO - Get LATEST chromedriver version for google-chrome\n",
      "2025-03-13 15:58:48,175 - INFO - Get LATEST chromedriver version for google-chrome\n",
      "2025-03-13 15:58:48,413 - INFO - Driver [C:\\Users\\isham\\.wdm\\drivers\\chromedriver\\win64\\134.0.6998.88\\chromedriver-win32/chromedriver.exe] found in cache\n"
     ]
    },
    {
     "name": "stdout",
     "output_type": "stream",
     "text": [
      "Scraping Page 1...\n",
      "Page 1 scraped. Total reviews so far: 5\n",
      "Moving to Page 2\n",
      "Scraping Page 2...\n",
      "Page 2 scraped. Total reviews so far: 10\n",
      "Moving to Page 3\n",
      "Scraping Page 3...\n",
      "Page 3 scraped. Total reviews so far: 15\n",
      "Moving to Page 4\n",
      "Scraping Page 4...\n",
      "Page 4 scraped. Total reviews so far: 20\n",
      "Moving to Page 5\n",
      "Scraping Page 5...\n",
      "Page 5 scraped. Total reviews so far: 25\n",
      "Moving to Page 6\n",
      "Error navigating to next page: Message: \n",
      "\n",
      "Scraping complete. 25 reviews saved to lazada_sambal_nyet_reviews.csv\n"
     ]
    }
   ],
   "source": [
    "#Muhamed Hisham bin Mohamed Bahurudeen (IS01081947)\n",
    "#Muhammad Afiq Fikri Bin Ahmad Sabri (IS01082516)\n",
    "\n",
    "from selenium import webdriver\n",
    "from selenium.webdriver.chrome.service import Service\n",
    "from selenium.webdriver.common.by import By\n",
    "from selenium.webdriver.chrome.options import Options\n",
    "from selenium.webdriver.support.ui import WebDriverWait\n",
    "from selenium.webdriver.support import expected_conditions as EC\n",
    "from webdriver_manager.chrome import ChromeDriverManager\n",
    "import pandas as pd\n",
    "import time\n",
    "import capsolver  # Import CapSolver\n",
    "\n",
    "# Set your CapSolver API key\n",
    "capsolver.api_key = \"YOUR_CAPSOLVER_API_KEY\"  # Replace with your actual API key\n",
    "\n",
    "# Setup Selenium WebDriver\n",
    "options = Options()\n",
    "options.add_argument(\"--headless\")\n",
    "options.add_argument(\"--disable-gpu\")\n",
    "options.add_argument(\"--no-sandbox\")\n",
    "\n",
    "# Initialize Chrome WebDriver\n",
    "service = Service(ChromeDriverManager().install())\n",
    "driver = webdriver.Chrome(service=service, options=options)\n",
    "\n",
    "# Lazada product review page(Sambal Nyet)\n",
    "url = \"https://www.lazada.com.my/products/sambal-nyet-berapi-ori-dari-khairulaming-i2623278934-s11857920384.html\"\n",
    "driver.get(url)\n",
    "time.sleep(5)  # Allow page to load\n",
    "\n",
    "reviews_data = []\n",
    "max_pages = 5  # Number of pages to scrape\n",
    "\n",
    "# Function to solve CAPTCHA using CapSolver\n",
    "def solve_captcha():\n",
    "    print(\"Solving CAPTCHA...\")\n",
    "    try:\n",
    "        solution = capsolver.solve({\n",
    "            \"type\": \"ReCaptchaV2TaskProxyless\",  # For reCAPTCHA v2\n",
    "            \"websiteURL\": driver.current_url,   # Current page URL\n",
    "            \"websiteKey\": \"SITE_KEY_HERE\"       # Replace with actual site key if known\n",
    "        })\n",
    "        print(f\"CAPTCHA Solved: {solution}\")\n",
    "        return solution\n",
    "    except Exception as e:\n",
    "        print(f\"CAPTCHA solving failed: {e}\")\n",
    "        return None\n",
    "\n",
    "for page in range(1, max_pages + 1):\n",
    "    print(f\"Scraping Page {page}...\")\n",
    "\n",
    "    # Scroll down to ensure all reviews load\n",
    "    driver.execute_script(\"window.scrollTo(0, document.body.scrollHeight);\")\n",
    "    time.sleep(5)\n",
    "\n",
    "    # Find all review elements on the page\n",
    "    reviews = driver.find_elements(By.CLASS_NAME, \"item\")\n",
    "\n",
    "    if not reviews:\n",
    "        print(\"No reviews found. Checking for CAPTCHA...\")\n",
    "        captcha_solution = solve_captcha()\n",
    "        if captcha_solution:\n",
    "            time.sleep(5)\n",
    "            continue\n",
    "        else:\n",
    "            break\n",
    "\n",
    "    for review in reviews:\n",
    "        try:\n",
    "            reviewer = review.find_element(By.XPATH, \".//div[@class='middle']/span\").text.strip()\n",
    "        except:\n",
    "            reviewer = \"No Name\"\n",
    "\n",
    "        try:\n",
    "            date = review.find_element(By.XPATH, \".//span[@class='title right']\").text.strip()\n",
    "        except:\n",
    "            date = \"No Date\"\n",
    "\n",
    "        try:\n",
    "            content = review.find_element(By.XPATH, \".//div[@class='content']\").text.strip()\n",
    "        except:\n",
    "            content = \"No Review Content\"\n",
    "\n",
    "        reviews_data.append([reviewer, date, content])\n",
    "\n",
    "    print(f\"Page {page} scraped. Total reviews so far: {len(reviews_data)}\")\n",
    "\n",
    "    # Try navigating to the next page\n",
    "    try:\n",
    "        pagination_section = driver.find_element(By.XPATH, '//*[@id=\"module_product_review\"]/div/div/div[3]/div[2]/div/div')\n",
    "        next_page_button = pagination_section.find_element(By.XPATH, f\".//button[contains(@class, 'next-pagination-item') and text()='{page + 1}']\")\n",
    "\n",
    "        if next_page_button:\n",
    "            driver.execute_script(\"arguments[0].scrollIntoView();\", next_page_button)\n",
    "            time.sleep(2)\n",
    "            driver.execute_script(\"window.scrollBy(0, -100);\")\n",
    "            time.sleep(1)\n",
    "            driver.execute_script(\"arguments[0].click();\", next_page_button)\n",
    "            print(f\"Moving to Page {page + 1}\")\n",
    "            WebDriverWait(driver, 20).until(\n",
    "                EC.staleness_of(reviews[0])\n",
    "            )\n",
    "            time.sleep(5)\n",
    "        else:\n",
    "            print(\"Next page button not found. Stopping scrape.\")\n",
    "            break\n",
    "    except Exception as e:\n",
    "        print(f\"Error navigating to next page: {e}\")\n",
    "        break\n",
    "\n",
    "# Close WebDriver\n",
    "driver.quit()\n",
    "\n",
    "# Save reviews to CSV file\n",
    "df = pd.DataFrame(reviews_data, columns=[\"Reviewer Name\", \"Review Date\", \"Review Content\"])\n",
    "df.to_csv(\"lazada_sambal_nyet_reviews.csv\", index=False, encoding=\"utf-8\")\n",
    "\n",
    "print(f\"Scraping complete. {len(reviews_data)} reviews saved to lazada_sambal_nyet_reviews.csv\")\n"
   ]
  },
  {
   "cell_type": "code",
   "execution_count": null,
   "id": "2ccd9434-a524-4cb0-926f-49239b55e8ae",
   "metadata": {},
   "outputs": [],
   "source": []
  }
 ],
 "metadata": {
  "kernelspec": {
   "display_name": "Python [conda env:base] *",
   "language": "python",
   "name": "conda-base-py"
  },
  "language_info": {
   "codemirror_mode": {
    "name": "ipython",
    "version": 3
   },
   "file_extension": ".py",
   "mimetype": "text/x-python",
   "name": "python",
   "nbconvert_exporter": "python",
   "pygments_lexer": "ipython3",
   "version": "3.12.7"
  }
 },
 "nbformat": 4,
 "nbformat_minor": 5
}
