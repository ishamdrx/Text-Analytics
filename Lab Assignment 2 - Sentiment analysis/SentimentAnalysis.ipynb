{
 "cells": [
  {
   "cell_type": "code",
   "execution_count": null,
   "id": "045c4f4e-b002-4c3d-94b0-cfbf8b8c44fe",
   "metadata": {},
   "outputs": [],
   "source": [
    "# Muhamed Hisham bin Mohamed Bahurudeen (IS01081947)\n",
    "# Muhammad Afiq Fikri Bin Ahmad Sabri (IS01082516)\n",
    "\n",
    "# In this project, we tested VADER (lexicon-based) and Naïve Bayes (machine learning) for sentiment analysis. \n",
    "# VADER gave 79% accuracy, but struggled with neutral (f1-score: 0.05) and negative (f1-score: 0.37). \n",
    "# Naïve Bayes performed better with 85% accuracy, and higher f1-scores for negative (0.65) and positive (0.92). \n",
    "# Overall, Naïve Bayes is more accurate and reliable for classifying sentiment.\n",
    "\n"
   ]
  },
  {
   "cell_type": "code",
   "execution_count": 2,
   "id": "620bad2a-8274-42d4-860a-7fb21c80d6bb",
   "metadata": {},
   "outputs": [],
   "source": [
    "!pip install vaderSentiment scikit-learn pandas --quiet\n",
    "\n",
    "import pandas as pd\n",
    "from vaderSentiment.vaderSentiment import SentimentIntensityAnalyzer\n",
    "from sklearn.feature_extraction.text import CountVectorizer\n",
    "from sklearn.model_selection import train_test_split\n",
    "from sklearn.naive_bayes import MultinomialNB\n",
    "from sklearn.metrics import classification_report\n"
   ]
  },
  {
   "cell_type": "code",
   "execution_count": 4,
   "id": "dde60f34-ba8a-49d6-a3be-08e4c25b2fca",
   "metadata": {},
   "outputs": [
    {
     "data": {
      "text/html": [
       "<div>\n",
       "<style scoped>\n",
       "    .dataframe tbody tr th:only-of-type {\n",
       "        vertical-align: middle;\n",
       "    }\n",
       "\n",
       "    .dataframe tbody tr th {\n",
       "        vertical-align: top;\n",
       "    }\n",
       "\n",
       "    .dataframe thead th {\n",
       "        text-align: right;\n",
       "    }\n",
       "</style>\n",
       "<table border=\"1\" class=\"dataframe\">\n",
       "  <thead>\n",
       "    <tr style=\"text-align: right;\">\n",
       "      <th></th>\n",
       "      <th>ProductId</th>\n",
       "      <th>Score</th>\n",
       "      <th>lemmatized</th>\n",
       "      <th>tokenized</th>\n",
       "      <th>Sentiment</th>\n",
       "    </tr>\n",
       "  </thead>\n",
       "  <tbody>\n",
       "    <tr>\n",
       "      <th>0</th>\n",
       "      <td>B001E4KFG0</td>\n",
       "      <td>5</td>\n",
       "      <td>buy several vitality can dog food product find...</td>\n",
       "      <td>['buy', 'several', 'vitality', 'can', 'dog', '...</td>\n",
       "      <td>positive</td>\n",
       "    </tr>\n",
       "    <tr>\n",
       "      <th>1</th>\n",
       "      <td>B00813GRG4</td>\n",
       "      <td>1</td>\n",
       "      <td>product arrive labeled jumbo salt peanutsthe p...</td>\n",
       "      <td>['product', 'arrive', 'labeled', 'jumbo', 'sal...</td>\n",
       "      <td>negative</td>\n",
       "    </tr>\n",
       "    <tr>\n",
       "      <th>2</th>\n",
       "      <td>B000LQOCH0</td>\n",
       "      <td>4</td>\n",
       "      <td>confection around century light pillowy citrus...</td>\n",
       "      <td>['confection', 'around', 'century', 'light', '...</td>\n",
       "      <td>positive</td>\n",
       "    </tr>\n",
       "    <tr>\n",
       "      <th>3</th>\n",
       "      <td>B000UA0QIQ</td>\n",
       "      <td>2</td>\n",
       "      <td>look secret ingredient robitussin believe find...</td>\n",
       "      <td>['look', 'secret', 'ingredient', 'robitussin',...</td>\n",
       "      <td>negative</td>\n",
       "    </tr>\n",
       "    <tr>\n",
       "      <th>4</th>\n",
       "      <td>B006K2ZZ7K</td>\n",
       "      <td>5</td>\n",
       "      <td>great taffy great price wide assortment yummy ...</td>\n",
       "      <td>['great', 'taffy', 'great', 'price', 'wide', '...</td>\n",
       "      <td>positive</td>\n",
       "    </tr>\n",
       "  </tbody>\n",
       "</table>\n",
       "</div>"
      ],
      "text/plain": [
       "    ProductId  Score                                         lemmatized  \\\n",
       "0  B001E4KFG0      5  buy several vitality can dog food product find...   \n",
       "1  B00813GRG4      1  product arrive labeled jumbo salt peanutsthe p...   \n",
       "2  B000LQOCH0      4  confection around century light pillowy citrus...   \n",
       "3  B000UA0QIQ      2  look secret ingredient robitussin believe find...   \n",
       "4  B006K2ZZ7K      5  great taffy great price wide assortment yummy ...   \n",
       "\n",
       "                                           tokenized Sentiment  \n",
       "0  ['buy', 'several', 'vitality', 'can', 'dog', '...  positive  \n",
       "1  ['product', 'arrive', 'labeled', 'jumbo', 'sal...  negative  \n",
       "2  ['confection', 'around', 'century', 'light', '...  positive  \n",
       "3  ['look', 'secret', 'ingredient', 'robitussin',...  negative  \n",
       "4  ['great', 'taffy', 'great', 'price', 'wide', '...  positive  "
      ]
     },
     "execution_count": 4,
     "metadata": {},
     "output_type": "execute_result"
    }
   ],
   "source": [
    "# Load dataset\n",
    "df = pd.read_csv(\"preprocessed_reviews_final.csv\")\n",
    "\n",
    "# Drop nulls \n",
    "df = df.dropna(subset=[\"lemmatized\", \"Sentiment\"])\n",
    "\n",
    "# Only keep positive, neutral, negative\n",
    "df = df[df['Sentiment'].isin(['positive', 'neutral', 'negative'])]\n",
    "\n",
    "\n",
    "df.head()\n"
   ]
  },
  {
   "cell_type": "code",
   "execution_count": 6,
   "id": "bb177f6b-6923-4973-b663-5b6d215123dc",
   "metadata": {},
   "outputs": [
    {
     "name": "stdout",
     "output_type": "stream",
     "text": [
      "\n",
      "Classification Report for VADER:\n",
      "              precision    recall  f1-score   support\n",
      "\n",
      "    negative       0.58      0.27      0.37     82036\n",
      "     neutral       0.12      0.03      0.05     42640\n",
      "    positive       0.82      0.96      0.88    443771\n",
      "\n",
      "    accuracy                           0.79    568447\n",
      "   macro avg       0.51      0.42      0.43    568447\n",
      "weighted avg       0.73      0.79      0.75    568447\n",
      "\n"
     ]
    }
   ],
   "source": [
    "analyzer = SentimentIntensityAnalyzer()\n",
    "\n",
    "\n",
    "def vader_sentiment(text):\n",
    "    score = analyzer.polarity_scores(text)['compound']\n",
    "    if score >= 0.05:\n",
    "        return 'positive'\n",
    "    elif score <= -0.05:\n",
    "        return 'negative'\n",
    "    else:\n",
    "        return 'neutral'\n",
    "\n",
    "# Apply to lemmatized \n",
    "df['vader_predicted'] = df['lemmatized'].apply(vader_sentiment)\n",
    "\n",
    "# Report\n",
    "print(\"\\nClassification Report for VADER:\")\n",
    "print(classification_report(df['Sentiment'], df['vader_predicted'], target_names=['negative', 'neutral', 'positive']))\n"
   ]
  },
  {
   "cell_type": "code",
   "execution_count": 8,
   "id": "a6f8b626-7edd-4af7-b139-05fee630349c",
   "metadata": {},
   "outputs": [
    {
     "name": "stdout",
     "output_type": "stream",
     "text": [
      "\n",
      "Classification Report for Naive Bayes:\n",
      "              precision    recall  f1-score   support\n",
      "\n",
      "    negative       0.70      0.60      0.65     24657\n",
      "     neutral       0.50      0.18      0.27     12816\n",
      "    positive       0.88      0.96      0.92    133062\n",
      "\n",
      "    accuracy                           0.85    170535\n",
      "   macro avg       0.70      0.58      0.61    170535\n",
      "weighted avg       0.83      0.85      0.83    170535\n",
      "\n"
     ]
    }
   ],
   "source": [
    "X = df['lemmatized']\n",
    "y = df['Sentiment']\n",
    "\n",
    "# Split into train-test\n",
    "X_train, X_test, y_train, y_test = train_test_split(X, y, test_size=0.3, random_state=42)\n",
    "\n",
    "# Vectorize using Bag of Words\n",
    "vectorizer = CountVectorizer()\n",
    "X_train_vec = vectorizer.fit_transform(X_train)\n",
    "X_test_vec = vectorizer.transform(X_test)\n",
    "\n",
    "# Train Naive Bayes model\n",
    "nb_model = MultinomialNB()\n",
    "nb_model.fit(X_train_vec, y_train)\n",
    "\n",
    "# Predict\n",
    "y_pred_nb = nb_model.predict(X_test_vec)\n",
    "\n",
    "# Report\n",
    "print(\"\\nClassification Report for Naive Bayes:\")\n",
    "print(classification_report(y_test, y_pred_nb, target_names=['negative', 'neutral', 'positive']))\n"
   ]
  }
 ],
 "metadata": {
  "kernelspec": {
   "display_name": "Python [conda env:base] *",
   "language": "python",
   "name": "conda-base-py"
  },
  "language_info": {
   "codemirror_mode": {
    "name": "ipython",
    "version": 3
   },
   "file_extension": ".py",
   "mimetype": "text/x-python",
   "name": "python",
   "nbconvert_exporter": "python",
   "pygments_lexer": "ipython3",
   "version": "3.12.7"
  }
 },
 "nbformat": 4,
 "nbformat_minor": 5
}
