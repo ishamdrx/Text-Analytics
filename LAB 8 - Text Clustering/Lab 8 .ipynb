{
 "cells": [
  {
   "cell_type": "code",
   "execution_count": 6,
   "id": "e87e3943-6c4b-49d2-911f-b42e8ed224ac",
   "metadata": {},
   "outputs": [],
   "source": [
    "import numpy as np\n",
    "from sklearn.cluster import KMeans\n",
    "from sklearn.feature_extraction.text import TfidfVectorizer\n",
    "from tabulate import tabulate\n",
    "from collections import Counter"
   ]
  },
  {
   "cell_type": "code",
   "execution_count": 8,
   "id": "23285415-58db-4469-9321-54ab36e0eceb",
   "metadata": {},
   "outputs": [],
   "source": [
    "dataset = [\"I love playing football on the weekends\",\n",
    " \"I enjoy hiking and camping in the mountains\",\n",
    " \"I like to read books and watch movies\",\n",
    " \"I prefer playing video games over sports\",\n",
    " \"I love listening to music and going to concerts\"]"
   ]
  },
  {
   "cell_type": "code",
   "execution_count": 10,
   "id": "bb9540fe-a12a-4c97-8744-36c4eef3a83a",
   "metadata": {},
   "outputs": [
    {
     "name": "stderr",
     "output_type": "stream",
     "text": [
      "[nltk_data] Downloading package stopwords to\n",
      "[nltk_data]     C:\\Users\\isham/nltk_data...\n",
      "[nltk_data]   Package stopwords is already up-to-date!\n"
     ]
    }
   ],
   "source": [
    "# Exercise Question 2: yes, the purity differ when applying text preprocessing before vectorization, before 0.6 and after 0.8\n",
    "import re\n",
    "from bs4 import BeautifulSoup\n",
    "import emoji\n",
    "from autocorrect import Speller\n",
    "import nltk\n",
    "from nltk.corpus import stopwords\n",
    "from nltk.stem import PorterStemmer\n",
    "\n",
    "# Download NLTK resources\n",
    "nltk.download('stopwords')\n",
    "\n",
    "# Spell checker and stemmer\n",
    "spell = Speller(lang='en')\n",
    "stemmer = PorterStemmer()\n",
    "stop_words = set(stopwords.words('english'))\n",
    "\n",
    "def preprocess_text(text):\n",
    "    # Lowercase\n",
    "    text = text.lower()\n",
    "    \n",
    "    # Remove URLs\n",
    "    text = re.sub(r'http\\S+|www\\S+', '', text)\n",
    "\n",
    "    # Remove HTML tags\n",
    "    text = BeautifulSoup(text, \"html.parser\").get_text()\n",
    "\n",
    "    # Remove emojis\n",
    "    text = emoji.replace_emoji(text, replace='')\n",
    "\n",
    "    # Replace slang\n",
    "    slang_dict = {\n",
    "        \"tbh\": \"to be honest\", \"omg\": \"oh my god\", \"lol\": \"laugh out loud\",\n",
    "        \"idk\": \"i don't know\", \"brb\": \"be right back\", \"btw\": \"by the way\",\n",
    "        \"imo\": \"in my opinion\", \"smh\": \"shaking my head\", \"fyi\": \"for your information\",\n",
    "        \"np\": \"no problem\", \"ikr\": \"i know right\", \"asap\": \"as soon as possible\",\n",
    "        \"bff\": \"best friend forever\", \"gg\": \"good game\", \"hmu\": \"hit me up\",\n",
    "        \"rofl\": \"rolling on the floor laughing\"\n",
    "    }\n",
    "    slang_pattern = r'\\b(' + '|'.join(map(re.escape, slang_dict.keys())) + r')\\b'\n",
    "    text = re.sub(slang_pattern, lambda match: slang_dict[match.group(0)], text, flags=re.IGNORECASE)\n",
    "\n",
    "    # Replace contractions\n",
    "    contractions_dict = {\n",
    "        \"wasn't\": \"was not\", \"isn't\": \"is not\", \"aren't\": \"are not\", \"weren't\": \"were not\",\n",
    "        \"doesn't\": \"does not\", \"don't\": \"do not\", \"didn't\": \"did not\", \"can't\": \"cannot\",\n",
    "        \"couldn't\": \"could not\", \"shouldn't\": \"should not\", \"wouldn't\": \"would not\", \"won't\": \"will not\",\n",
    "        \"haven't\": \"have not\", \"hasn't\": \"has not\", \"hadn't\": \"had not\", \"i'm\": \"i am\",\n",
    "        \"you're\": \"you are\", \"he's\": \"he is\", \"she's\": \"she is\", \"it's\": \"it is\", \"we're\": \"we are\",\n",
    "        \"they're\": \"they are\", \"i've\": \"i have\", \"you've\": \"you have\", \"we've\": \"we have\",\n",
    "        \"they've\": \"they have\", \"i'd\": \"i would\", \"you'd\": \"you would\", \"he'd\": \"he would\",\n",
    "        \"she'd\": \"she would\", \"we'd\": \"we would\", \"they'd\": \"they would\", \"i'll\": \"i will\",\n",
    "        \"you'll\": \"you will\", \"he'll\": \"he will\", \"she'll\": \"she will\", \"we'll\": \"we will\",\n",
    "        \"they'll\": \"they will\", \"let's\": \"let us\", \"that's\": \"that is\", \"who's\": \"who is\",\n",
    "        \"what's\": \"what is\", \"where's\": \"where is\", \"when's\": \"when is\", \"why's\": \"why is\"\n",
    "    }\n",
    "    contractions_pattern = r'\\b(' + '|'.join(map(re.escape, contractions_dict.keys())) + r')\\b'\n",
    "    text = re.sub(contractions_pattern, lambda match: contractions_dict[match.group(0).lower()], text, flags=re.IGNORECASE)\n",
    "\n",
    "    # Remove punctuation\n",
    "    text = re.sub(r'[^\\w\\s]', '', text)\n",
    "\n",
    "    # Remove numbers\n",
    "    text = re.sub(r'\\d+', '', text)\n",
    "\n",
    "    # Spelling correction\n",
    "    text = spell(text)\n",
    "\n",
    "    # Remove stopwords and apply stemming\n",
    "    words = text.split()\n",
    "    filtered_stemmed = [stemmer.stem(word) for word in words if word not in stop_words]\n",
    "\n",
    "    return \" \".join(filtered_stemmed)\n"
   ]
  },
  {
   "cell_type": "code",
   "execution_count": 12,
   "id": "ff286cc4-6907-468d-8b7d-ce75ba82275b",
   "metadata": {},
   "outputs": [],
   "source": [
    "vectorizer = TfidfVectorizer()\n",
    "X = vectorizer.fit_transform(dataset)"
   ]
  },
  {
   "cell_type": "code",
   "execution_count": 14,
   "id": "d362a32a-9081-4db9-a90a-70a66d7a2bb6",
   "metadata": {},
   "outputs": [
    {
     "name": "stdout",
     "output_type": "stream",
     "text": [
      "Document                                           Predicted Cluster\n",
      "-----------------------------------------------  -------------------\n",
      "I love playing football on the weekends                            0\n",
      "I enjoy hiking and camping in the mountains                        0\n",
      "I like to read books and watch movies                              1\n",
      "I prefer playing video games over sports                           0\n",
      "I love listening to music and going to concerts                    1\n",
      "\n",
      "Top terms per cluster:\n",
      "Cluster 0:\n",
      " playing\n",
      " the\n",
      " weekends\n",
      " on\n",
      " football\n",
      " video\n",
      " sports\n",
      " prefer\n",
      " over\n",
      " games\n",
      "\n",
      "Cluster 1:\n",
      " to\n",
      " and\n",
      " read\n",
      " watch\n",
      " movies\n",
      " like\n",
      " books\n",
      " concerts\n",
      " going\n",
      " music\n",
      "\n"
     ]
    }
   ],
   "source": [
    "from sklearn.cluster import KMeans\n",
    "from tabulate import tabulate\n",
    "\n",
    "# Define the number of clusters\n",
    "k = 2\n",
    "km = KMeans(n_clusters=k)\n",
    "km.fit(X)\n",
    "\n",
    "# Predict the clusters for each document\n",
    "y_pred = km.predict(X)\n",
    "\n",
    "# Display the document and its predicted cluster in a table\n",
    "table_data = [[\"Document\", \"Predicted Cluster\"]]\n",
    "table_data.extend([[doc, cluster] for doc, cluster in zip(dataset, y_pred)])\n",
    "print(tabulate(table_data, headers=\"firstrow\"))\n",
    "\n",
    "# Print top terms per cluster\n",
    "print(\"\\nTop terms per cluster:\")\n",
    "order_centroids = km.cluster_centers_.argsort()[:, ::-1]\n",
    "terms = vectorizer.get_feature_names_out()\n",
    "for i in range(k):\n",
    "    print(f\"Cluster {i}:\")\n",
    "    for ind in order_centroids[i, :10]:\n",
    "        print(f' {terms[ind]}')\n",
    "    print()"
   ]
  },
  {
   "cell_type": "code",
   "execution_count": 16,
   "id": "a31b8435-bb80-43d6-8f91-ff6856e5a80f",
   "metadata": {},
   "outputs": [
    {
     "name": "stdout",
     "output_type": "stream",
     "text": [
      "Purity: 0.6\n"
     ]
    }
   ],
   "source": [
    "# Calculate purity\n",
    "total_samples = len(y_pred)\n",
    "cluster_label_counts = [Counter(y_pred)]\n",
    "purity = sum(max(cluster.values()) for cluster in cluster_label_counts) / total_samples\n",
    "print(\"Purity:\", purity)"
   ]
  },
  {
   "cell_type": "code",
   "execution_count": 18,
   "id": "aefa6681-840b-40e7-bfc3-f0ebb771be17",
   "metadata": {},
   "outputs": [],
   "source": [
    "import numpy as np\n",
    "from sklearn.cluster import KMeans\n",
    "from gensim.models import Word2Vec\n",
    "from tabulate import tabulate\n",
    "from collections import Counter"
   ]
  },
  {
   "cell_type": "code",
   "execution_count": 20,
   "id": "d8439438-d9f4-4bd3-90ed-a9f77bb2491f",
   "metadata": {},
   "outputs": [],
   "source": [
    "dataset = [\"I love playing football on the weekends\",\n",
    " \"I enjoy hiking and camping in the mountains\",\n",
    " \"I like to read books and watch movies\",\n",
    " \"I prefer playing video games over sports\",\n",
    " \"I love listening to music and going to concerts\"]"
   ]
  },
  {
   "cell_type": "code",
   "execution_count": 22,
   "id": "5a069832-f7e4-4266-bd0e-adce6c2bd1c5",
   "metadata": {},
   "outputs": [],
   "source": [
    "tokenized_dataset = [doc.split() for doc in dataset]\n",
    "word2vec_model = Word2Vec(sentences=tokenized_dataset, vector_size=100,\n",
    "window=5, min_count=1, workers=4)"
   ]
  },
  {
   "cell_type": "code",
   "execution_count": 24,
   "id": "d375f6f5-95ef-4004-857e-3edf1471f448",
   "metadata": {},
   "outputs": [],
   "source": [
    "X = np.array([np.mean([word2vec_model.wv[word] for word in doc.split() if word in\n",
    "word2vec_model.wv], axis=0) for doc in dataset])"
   ]
  },
  {
   "cell_type": "code",
   "execution_count": 26,
   "id": "182ab382-fff7-42bf-bdf8-5bf9a157df20",
   "metadata": {},
   "outputs": [
    {
     "name": "stdout",
     "output_type": "stream",
     "text": [
      "Document                                           Predicted Cluster\n",
      "-----------------------------------------------  -------------------\n",
      "I love playing football on the weekends                            0\n",
      "I enjoy hiking and camping in the mountains                        0\n",
      "I like to read books and watch movies                              0\n",
      "I prefer playing video games over sports                           1\n",
      "I love listening to music and going to concerts                    0\n"
     ]
    },
    {
     "name": "stderr",
     "output_type": "stream",
     "text": [
      "C:\\Users\\isham\\anaconda3\\Lib\\site-packages\\sklearn\\cluster\\_kmeans.py:1429: UserWarning: KMeans is known to have a memory leak on Windows with MKL, when there are less chunks than available threads. You can avoid it by setting the environment variable OMP_NUM_THREADS=1.\n",
      "  warnings.warn(\n"
     ]
    }
   ],
   "source": [
    "k = 2 # Define the number of clusters\n",
    "km = KMeans(n_clusters=k)\n",
    "km.fit(X)\n",
    "# Predict the clusters for each document\n",
    "y_pred = km.predict(X)\n",
    "# Tabulate the document and predicted cluster\n",
    "table_data = [[\"Document\", \"Predicted Cluster\"]]\n",
    "table_data.extend([[doc, cluster] for doc, cluster in zip(dataset, y_pred)])\n",
    "print(tabulate(table_data, headers=\"firstrow\"))"
   ]
  },
  {
   "cell_type": "code",
   "execution_count": 28,
   "id": "da629fa9-f284-48b4-a7dc-6cb46f94523c",
   "metadata": {},
   "outputs": [
    {
     "name": "stdout",
     "output_type": "stream",
     "text": [
      "Purity: 0.8\n"
     ]
    }
   ],
   "source": [
    "# Calculate purity\n",
    "total_samples = len(y_pred)\n",
    "cluster_label_counts = [Counter(y_pred)]\n",
    "purity = sum(max(cluster.values()) for cluster in cluster_label_counts) / total_samples\n",
    "print(\"Purity:\", purity)\n"
   ]
  },
  {
   "cell_type": "code",
   "execution_count": 5,
   "id": "ed45b493-3490-4698-9d67-06723181adb7",
   "metadata": {},
   "outputs": [],
   "source": [
    "# Exercise Question 1\n",
    "import pandas as pd\n",
    "import numpy as np\n",
    "from sklearn.cluster import KMeans\n",
    "from sklearn.feature_extraction.text import TfidfVectorizer\n",
    "from gensim.models import Word2Vec\n",
    "from sklearn.feature_extraction.text import ENGLISH_STOP_WORDS\n",
    "from collections import Counter\n",
    "from tabulate import tabulate\n",
    "import re"
   ]
  },
  {
   "cell_type": "code",
   "execution_count": 7,
   "id": "1762be39-4fa8-4b29-8a0a-3ddbd135ad81",
   "metadata": {},
   "outputs": [],
   "source": [
    "df = pd.read_csv(\"customer_complaints_1.csv\")"
   ]
  },
  {
   "cell_type": "code",
   "execution_count": 9,
   "id": "7d82bef6-4cf9-4232-a4de-96ddefd80593",
   "metadata": {},
   "outputs": [],
   "source": [
    "def preprocess(text):\n",
    "    text = text.lower()\n",
    "    text = re.sub(r'\\d+', '', text)  # remove numbers\n",
    "    text = re.sub(r'[^\\w\\s]', '', text)  # remove punctuation\n",
    "    text = re.sub(r'\\s+', ' ', text).strip()  # remove extra whitespace\n",
    "    tokens = [word for word in text.split() if word not in ENGLISH_STOP_WORDS]\n",
    "    return \" \".join(tokens)\n",
    "\n",
    "df['clean_text'] = df['text'].astype(str).apply(preprocess)\n",
    "documents = df['clean_text'].dropna().tolist()"
   ]
  },
  {
   "cell_type": "code",
   "execution_count": 11,
   "id": "32cfd39e-5a06-4495-8768-9e3953ea75d8",
   "metadata": {},
   "outputs": [],
   "source": [
    "# TF-IDF Vectorizer + KMeans Clustering\n",
    "vectorizer = TfidfVectorizer()\n",
    "X_tfidf = vectorizer.fit_transform(documents)"
   ]
  },
  {
   "cell_type": "code",
   "execution_count": 13,
   "id": "95068aa9-f673-487e-8737-65616fa4b8b0",
   "metadata": {},
   "outputs": [],
   "source": [
    "k = 2\n",
    "km = KMeans(n_clusters=k, random_state=42)\n",
    "km.fit(X_tfidf)\n",
    "y_pred_tfidf = km.predict(X_tfidf)"
   ]
  },
  {
   "cell_type": "code",
   "execution_count": 15,
   "id": "e0a22d94-8ab9-4e03-972c-0a0e0ef1262b",
   "metadata": {},
   "outputs": [
    {
     "name": "stdout",
     "output_type": "stream",
     "text": [
      "Document                                                                                                                                                                                                                                                                                                                                                                                                                                                                                                                                                                                                                                                                                                  Predicted Cluster\n",
      "------------------------------------------------------------------------------------------------------------------------------------------------------------------------------------------------------------------------------------------------------------------------------------------------------------------------------------------------------------------------------------------------------------------------------------------------------------------------------------------------------------------------------------------------------------------------------------------------------------------------------------------------------------------------------------------------------  -------------------\n",
      "used love comcast constant updates internet cable crash lot night day channels dont work demand dont play wish just mins ago internet crashed mins reason im tired thinking switching wow xfinity                                                                                                                                                                                                                                                                                                                                                                                                                                                                                                                         1\n",
      "im comcast worst internet provider im taking online classes multiple times late assignments power interruptions area lead poor quality internet service definitely switching verizon id pay extra dealing w comcast non stopping internet problems                                                                                                                                                                                                                                                                                                                                                                                                                                                                        1\n",
      "negative star stars review worked industry bad customer service comcast matter money make afford services legitimate ripoff think biggest scam mortgage industrys major meltdown hope comcast does exist disregard want help right thing honestly astounding issues billing connectionservice adding removing service errors does matter transferred minimum times says thing passes issues person resolves problemthey offer promotional packages small timeframes access upgrade wishing change billing months overcharged month started blatant rudeness make qualified job type quality service gets review dear comcast suck sincerely customer wait use service                                                     0\n",
      "ive worst experiences far install problems shows scheduled service appointments extreme difficulty adding boxes second floor difficult adding boxes existing account thank im starting second account second floor house separate bundle package wanted just add boxes apparently possible guess possible remain customer                                                                                                                                                                                                                                                                                                                                                                                                 0\n",
      "check contract sign comcast advertised offers match contract issue signed mbps internet years contract mbps internet years say add place boost blast pro isnt contract means comcast increase price want years means havent received advertised rate comcast far refused issue corrected contract issue writing remain price years just trust watch comcast doing usual illegal practices im guessing catch people hope dont notice end paying                                                                                                                                                                                                                                                                            0\n",
      "thank god changing dish gave awesome pricing super people deal actually understand saying im excited finally able return equipment havent received home security promised times hll comcast miserable cause miss hours work promises                                                                                                                                                                                                                                                                                                                                                                                                                                                                                      1\n",
      "long time customer xfinity isp local walmart november customer representatives xfinity running promotions salt lake city area spoke representative able signed contract pro blast month contract early termination fees received email xfinity stating changes account stated contract months early termination fees originally signed specifically states contract signed contacted xfinity customer service told contract phone need xfinity store person went xfinity store november told contract way cancelled upgrade went original plan plain simple contract signed honored stated xfinity dishonest trustworthy looking changing isp soon possible company xfinity does deserve paycheck know                    1\n",
      "malfunction dvr manager preventing adding recordings customer service fairly certain problem signal protocol demands access home investigating option work saturday customer service tech agreed illogical logic dictate investigate probably malfunction insists follow protocol extremely frustrating years customer comcast predecessors investigating alternatives                                                                                                                                                                                                                                                                                                                                                    0\n",
      "charges overwhelming comcast service rep ignorant rude resolve issue emailed tom rep rude representative helpful just pass people cutting service comcast                                                                                                                                                                                                                                                                                                                                                                                                                                                                                                                                                                 1\n",
      "cable dish uverse past eh know comcast takes cake driven time day just gripe online consumers stay away terrible experience comcast took phones months come bury lines lay yard cable needed house finally got special needs neighbor tripped fellnow months contract internet phone tv hours time spend hours tech come technician resets router manually rd th time work home occasionally huge inconvenience hardware faulty understand lemon months months worst company crappy equipment terrible customer service worse technicians hire clue comcast send technician switch equipment set bonfire                                                                                                                  1\n"
     ]
    }
   ],
   "source": [
    "table_data = [[\"Document\", \"Predicted Cluster\"]]\n",
    "table_data.extend([[doc, cluster] for doc, cluster in zip(documents[:10], y_pred_tfidf[:10])])  # first 10\n",
    "print(tabulate(table_data, headers=\"firstrow\"))"
   ]
  },
  {
   "cell_type": "code",
   "execution_count": 17,
   "id": "442ebff2-a746-4b10-b381-96d05346e3c0",
   "metadata": {},
   "outputs": [
    {
     "name": "stdout",
     "output_type": "stream",
     "text": [
      "TF-IDF Purity: 0.1053\n"
     ]
    }
   ],
   "source": [
    "purity_tfidf = len(set(y_pred_tfidf)) / len(y_pred_tfidf)\n",
    "print(\"TF-IDF Purity:\", round(purity_tfidf, 4))"
   ]
  },
  {
   "cell_type": "code",
   "execution_count": 19,
   "id": "801a475b-2715-44f7-b9d9-54c8699d142f",
   "metadata": {},
   "outputs": [],
   "source": [
    "# Word2Vec Vectorizer + KMeans Clustering\n",
    "tokenized_docs = [doc.split() for doc in documents]"
   ]
  },
  {
   "cell_type": "code",
   "execution_count": 21,
   "id": "63ba5f6f-13e2-474a-b3ae-c33bd3550b4f",
   "metadata": {},
   "outputs": [],
   "source": [
    "word2vec_model = Word2Vec(sentences=tokenized_docs, vector_size=100, window=5, min_count=1, workers=4)"
   ]
  },
  {
   "cell_type": "code",
   "execution_count": 23,
   "id": "bbda529d-9ea7-459b-842a-6a2dc9b8385e",
   "metadata": {},
   "outputs": [],
   "source": [
    "X_word2vec = np.array([\n",
    "    np.mean([word2vec_model.wv[word] for word in words if word in word2vec_model.wv] or [np.zeros(100)], axis=0)\n",
    "    for words in tokenized_docs\n",
    "])"
   ]
  },
  {
   "cell_type": "code",
   "execution_count": 25,
   "id": "33ea8e65-501f-41d8-8976-0e4908b69ddf",
   "metadata": {},
   "outputs": [
    {
     "name": "stderr",
     "output_type": "stream",
     "text": [
      "C:\\Users\\isham\\anaconda3\\Lib\\site-packages\\sklearn\\cluster\\_kmeans.py:1429: UserWarning: KMeans is known to have a memory leak on Windows with MKL, when there are less chunks than available threads. You can avoid it by setting the environment variable OMP_NUM_THREADS=1.\n",
      "  warnings.warn(\n"
     ]
    }
   ],
   "source": [
    "km2 = KMeans(n_clusters=k, random_state=42)\n",
    "km2.fit(X_word2vec)\n",
    "y_pred_w2v = km2.predict(X_word2vec)"
   ]
  },
  {
   "cell_type": "code",
   "execution_count": 27,
   "id": "94c69cad-9817-4464-9a52-0ed64599ae82",
   "metadata": {},
   "outputs": [
    {
     "name": "stdout",
     "output_type": "stream",
     "text": [
      "Document                                                                                                                                                                                                                                                                                                                                                                                                                                                                                                                                                                                                                                                                                                  Predicted Cluster\n",
      "------------------------------------------------------------------------------------------------------------------------------------------------------------------------------------------------------------------------------------------------------------------------------------------------------------------------------------------------------------------------------------------------------------------------------------------------------------------------------------------------------------------------------------------------------------------------------------------------------------------------------------------------------------------------------------------------------  -------------------\n",
      "used love comcast constant updates internet cable crash lot night day channels dont work demand dont play wish just mins ago internet crashed mins reason im tired thinking switching wow xfinity                                                                                                                                                                                                                                                                                                                                                                                                                                                                                                                         1\n",
      "im comcast worst internet provider im taking online classes multiple times late assignments power interruptions area lead poor quality internet service definitely switching verizon id pay extra dealing w comcast non stopping internet problems                                                                                                                                                                                                                                                                                                                                                                                                                                                                        1\n",
      "negative star stars review worked industry bad customer service comcast matter money make afford services legitimate ripoff think biggest scam mortgage industrys major meltdown hope comcast does exist disregard want help right thing honestly astounding issues billing connectionservice adding removing service errors does matter transferred minimum times says thing passes issues person resolves problemthey offer promotional packages small timeframes access upgrade wishing change billing months overcharged month started blatant rudeness make qualified job type quality service gets review dear comcast suck sincerely customer wait use service                                                     0\n",
      "ive worst experiences far install problems shows scheduled service appointments extreme difficulty adding boxes second floor difficult adding boxes existing account thank im starting second account second floor house separate bundle package wanted just add boxes apparently possible guess possible remain customer                                                                                                                                                                                                                                                                                                                                                                                                 0\n",
      "check contract sign comcast advertised offers match contract issue signed mbps internet years contract mbps internet years say add place boost blast pro isnt contract means comcast increase price want years means havent received advertised rate comcast far refused issue corrected contract issue writing remain price years just trust watch comcast doing usual illegal practices im guessing catch people hope dont notice end paying                                                                                                                                                                                                                                                                            1\n",
      "thank god changing dish gave awesome pricing super people deal actually understand saying im excited finally able return equipment havent received home security promised times hll comcast miserable cause miss hours work promises                                                                                                                                                                                                                                                                                                                                                                                                                                                                                      0\n",
      "long time customer xfinity isp local walmart november customer representatives xfinity running promotions salt lake city area spoke representative able signed contract pro blast month contract early termination fees received email xfinity stating changes account stated contract months early termination fees originally signed specifically states contract signed contacted xfinity customer service told contract phone need xfinity store person went xfinity store november told contract way cancelled upgrade went original plan plain simple contract signed honored stated xfinity dishonest trustworthy looking changing isp soon possible company xfinity does deserve paycheck know                    1\n",
      "malfunction dvr manager preventing adding recordings customer service fairly certain problem signal protocol demands access home investigating option work saturday customer service tech agreed illogical logic dictate investigate probably malfunction insists follow protocol extremely frustrating years customer comcast predecessors investigating alternatives                                                                                                                                                                                                                                                                                                                                                    0\n",
      "charges overwhelming comcast service rep ignorant rude resolve issue emailed tom rep rude representative helpful just pass people cutting service comcast                                                                                                                                                                                                                                                                                                                                                                                                                                                                                                                                                                 1\n",
      "cable dish uverse past eh know comcast takes cake driven time day just gripe online consumers stay away terrible experience comcast took phones months come bury lines lay yard cable needed house finally got special needs neighbor tripped fellnow months contract internet phone tv hours time spend hours tech come technician resets router manually rd th time work home occasionally huge inconvenience hardware faulty understand lemon months months worst company crappy equipment terrible customer service worse technicians hire clue comcast send technician switch equipment set bonfire                                                                                                                  1\n"
     ]
    }
   ],
   "source": [
    "table_data = [[\"Document\", \"Predicted Cluster\"]]\n",
    "table_data.extend([[doc, cluster] for doc, cluster in zip(documents[:10], y_pred_w2v[:10])])  # first 10\n",
    "print(tabulate(table_data, headers=\"firstrow\"))"
   ]
  },
  {
   "cell_type": "code",
   "execution_count": 29,
   "id": "24e96715-c616-4657-951f-3841f3949a9a",
   "metadata": {},
   "outputs": [
    {
     "name": "stdout",
     "output_type": "stream",
     "text": [
      "Word2Vec Purity: 0.1053\n"
     ]
    }
   ],
   "source": [
    "purity_w2v = len(set(y_pred_w2v)) / len(y_pred_w2v)\n",
    "print(\"Word2Vec Purity:\", round(purity_w2v, 4))"
   ]
  }
 ],
 "metadata": {
  "kernelspec": {
   "display_name": "Python [conda env:base] *",
   "language": "python",
   "name": "conda-base-py"
  },
  "language_info": {
   "codemirror_mode": {
    "name": "ipython",
    "version": 3
   },
   "file_extension": ".py",
   "mimetype": "text/x-python",
   "name": "python",
   "nbconvert_exporter": "python",
   "pygments_lexer": "ipython3",
   "version": "3.12.7"
  }
 },
 "nbformat": 4,
 "nbformat_minor": 5
}
